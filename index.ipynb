{
 "cells": [
  {
   "cell_type": "markdown",
   "metadata": {},
   "source": [
    "# Inheritance - Lab\n",
    "\n",
    "## Introduction\n",
    "\n",
    "In this lab, you'll use what you've learned about inheritance to model a zoo using superclasses, subclasses, and maybe even an abstract superclass!\n",
    "\n",
    "## Objectives\n",
    "\n",
    "You will be able to:\n",
    "\n",
    "* Use inheritance to write D.R.Y. code\n",
    "* Understand the relationship between subclasses and superclasses\n",
    "* Create Object-Oriented data models that describe the real world with classes and subclasses\n",
    "\n",
    "## Modeling a Zoo\n",
    "\n",
    "Consider the following scenario:  You've been hired by a zookeeper to build a program that keeps track of all the animals in the zoo.  This is a great opportunity to make use of Inheritance and Object-Oriented Programming!\n",
    "\n",
    "## Creating an Abstract Superclass\n",
    "\n",
    "Start by creating an abstract superclass, `Animal`.  When our program is complete, all subclasses of `Animal` will have the following attributes:\n",
    "\n",
    "* `name`, which is a string set at instantation time\n",
    "* `size`, which can be `'small'`, `'medium'`, `'large'`, or `'enormous'`.\n",
    "* `weight`, which is an integer set at integer set at instantiation time.\n",
    "* `species`, a string that tells us the species of the animal\n",
    "* `food_type`, which can be `'herbivore'`, `'carnivore'`, or `'omnivore'`\n",
    "* `nocturnal`, a boolean value that is `True` if the animal sleeps during the day, otherwise `False`\n",
    "\n",
    "They'll also have the following behaviors:\n",
    "\n",
    "* `sleep`, which prints a string saying if the animal sleeps during day or night\n",
    "* `eat`, which takes in the string `plants` or `meat`, and returns `'{animal name} the {animal species} thinks {food} is yummy!'` or `'I don't eat this!'` based on the animal's `food_type` attribute. \n",
    "\n",
    "In the cell below, create an abstract superclass that meets these specifications.\n",
    "\n",
    "**_NOTE:_** For some attributes in an abstract superclass such as `size`, the initial value doesn't matter--just make sure that you remember to override it in each of the subclasses!"
   ]
  },
  {
   "cell_type": "code",
   "execution_count": 11,
   "metadata": {},
   "outputs": [],
   "source": [
    "class Animal(object):\n",
    "    def __init__(self, name, weight):\n",
    "        self.name = name\n",
    "        self.weight = weight\n",
    "        self.size = None\n",
    "        self.species = None\n",
    "        self.type = None\n",
    "        self.nocturnal = None\n",
    "    \n",
    "    def sleep(self):\n",
    "        if self.nocturnal == False:\n",
    "            print('{} sleep at night').format(self.name)\n",
    "        else:\n",
    "            print('{} sleep during day').format(self.name)\n",
    "    def eat(self, food=['plant', 'meat']):\n",
    "        if self.type == 'herbivore':\n",
    "            return '{} the {} thinks {} is yummy!'.format(self.name, self.species, food[0])\n",
    "        elif self.type == 'carnivore':\n",
    "            return '{} the {} thinks {} is yummy!'.format(self.name, self.species, food[1])\n",
    "        else:\n",
    "            return '{} the {} thinks {} and {} is yummy!'.format(self.name, self.species, food[0], food[1])\n",
    "        "
   ]
  },
  {
   "cell_type": "markdown",
   "metadata": {},
   "source": [
    "Great! Now that you have our Abstract Superclass, you can begin building out the specific animal classes.\n",
    "\n",
    "In the cell below, complete the `Elephant` class.  This class should:\n",
    "\n",
    "* Subclass `Animal`\n",
    "* Have a species of `'elephant'`\n",
    "* Have a size of `'enormous'`\n",
    "* Have a food type of `'herbivore'`\n",
    "* Set nocturnal to `False`\n",
    "\n",
    "**_Hint:_** Remember to make use of the `super()` object during initialization, and be sure to pass in the values it expects at instantiation time!"
   ]
  },
  {
   "cell_type": "code",
   "execution_count": 12,
   "metadata": {},
   "outputs": [],
   "source": [
    "class Elephant(Animal):\n",
    "    def __init__(self, name, weight):\n",
    "        super().__init__(name, weight)\n",
    "        self.size = 'enormous'\n",
    "        self.species = 'elephant'\n",
    "        self.type = 'herbivore'\n",
    "        self.nocturnal = False\n"
   ]
  },
  {
   "cell_type": "markdown",
   "metadata": {},
   "source": [
    "Great! Now, in the cell below, create a `Tiger` class.  This class should:\n",
    "\n",
    "* Subclass `Animal`\n",
    "* Have a species of `'tiger'`\n",
    "* Have a size of `'large'`\n",
    "* Have a food type of `'carnivore'`\n",
    "* Set nocturnal to `True`"
   ]
  },
  {
   "cell_type": "code",
   "execution_count": 13,
   "metadata": {},
   "outputs": [],
   "source": [
    "class Tiger(Animal):\n",
    "    def __init__(self, name, weight):\n",
    "        super().__init__(name, weight)\n",
    "        self.size = 'large'\n",
    "        self.species = 'tiger'\n",
    "        self.type = 'carnivore'\n",
    "        self.nocturnal = True"
   ]
  },
  {
   "cell_type": "markdown",
   "metadata": {},
   "source": [
    "Great! 2 More classes to go. In the cell below, create a `Raccoon` class.  This class should:\n",
    "\n",
    "* Subclass `Animal`\n",
    "* Have a species of `raccoon`\n",
    "* Have a size of `'small'`\n",
    "* Have a food type of `'omnivore'`\n",
    "* Set nocturnal to `True`"
   ]
  },
  {
   "cell_type": "code",
   "execution_count": 14,
   "metadata": {},
   "outputs": [],
   "source": [
    "class Raccoon(Animal):\n",
    "    def __init__(self, name, weight):\n",
    "        super().__init__(name, weight)\n",
    "        self.size = 'small'\n",
    "        self.species = 'raccoon'\n",
    "        self.type = 'omnivore'\n",
    "        self.nocturnal = True"
   ]
  },
  {
   "cell_type": "markdown",
   "metadata": {},
   "source": [
    "Finally, create a `Gorilla` class.  This class should:\n",
    "\n",
    "* Subclass `Animal`\n",
    "* Have a species of `gorilla`\n",
    "* Have a size of `'Large'`\n",
    "* Have a food type of `'herbivore'`\n",
    "* Set nocturnal to `False`"
   ]
  },
  {
   "cell_type": "code",
   "execution_count": 15,
   "metadata": {},
   "outputs": [],
   "source": [
    "class Gorilla(Animal):\n",
    "    def __init__(self, name, weight):\n",
    "        super().__init__(name, weight)\n",
    "        self.size = 'large'\n",
    "        self.species = 'gorilla'\n",
    "        self.type = 'herbivore'\n",
    "        self.nocturnal = False"
   ]
  },
  {
   "cell_type": "markdown",
   "metadata": {},
   "source": [
    "## Using Our Objects\n",
    "\n",
    "Now it's time to populate the zoo! To ease the creation of animal instances, create a function `add_animal_to_zoo`.\n",
    "\n",
    "This function should take in the following parameters:\n",
    "\n",
    "* `zoo`, an array representing the current state of the zoo\n",
    "* `animal_type`, a string.  Can be `'Gorilla'`, `'Raccoon'`, `'Tiger'`, or `'Elephant'`.\n",
    "* `name`, the name of the animal being created\n",
    "* `weight`, the weight of the animal being created\n",
    "\n",
    "The function should then:\n",
    "\n",
    "* use `animal_type` to determine which object to create\n",
    "* Create an instance of that animal, passing in the `name` and `weight`\n",
    "* Append the newly created animal to `zoo`\n",
    "* Return `zoo`"
   ]
  },
  {
   "cell_type": "code",
   "execution_count": 16,
   "metadata": {},
   "outputs": [],
   "source": [
    "def add_animal_to_zoo(zoo, animal_type, name, weight):\n",
    "    animal = None\n",
    "    if animal_type == 'elephant':\n",
    "        animal = Elephant(name, weight)\n",
    "    elif animal_type == 'tiger':\n",
    "        animal = Tiger(name, weight)\n",
    "    elif animal_type == 'raccoon':\n",
    "        animal = Raccoon(name, weight)\n",
    "    elif animal_type == 'gorilla':\n",
    "        animal = Gorilla(name, weight)\n",
    "    zoo.append(animal)\n",
    "    return zoo"
   ]
  },
  {
   "cell_type": "markdown",
   "metadata": {},
   "source": [
    "Great! Now, add some animals to your zoo. \n",
    "\n",
    "Create the following animals and add them to your zoo.  The names and weights are up to you.\n",
    "\n",
    "* 2 Elephants\n",
    "* 2 Raccons\n",
    "* 1 Gorilla\n",
    "* 3 Tigers"
   ]
  },
  {
   "cell_type": "code",
   "execution_count": 17,
   "metadata": {},
   "outputs": [
    {
     "name": "stdout",
     "output_type": "stream",
     "text": [
      "Help on class Elephant in module __main__:\n",
      "\n",
      "class Elephant(Animal)\n",
      " |  Method resolution order:\n",
      " |      Elephant\n",
      " |      Animal\n",
      " |      builtins.object\n",
      " |  \n",
      " |  Methods defined here:\n",
      " |  \n",
      " |  __init__(self, name, weight)\n",
      " |      Initialize self.  See help(type(self)) for accurate signature.\n",
      " |  \n",
      " |  ----------------------------------------------------------------------\n",
      " |  Methods inherited from Animal:\n",
      " |  \n",
      " |  eat(self, food=['plant', 'meat'])\n",
      " |  \n",
      " |  sleep(self)\n",
      " |  \n",
      " |  ----------------------------------------------------------------------\n",
      " |  Data descriptors inherited from Animal:\n",
      " |  \n",
      " |  __dict__\n",
      " |      dictionary for instance variables (if defined)\n",
      " |  \n",
      " |  __weakref__\n",
      " |      list of weak references to the object (if defined)\n",
      "\n",
      "None\n"
     ]
    }
   ],
   "source": [
    "to_create = ['elephant', 'elephant', 'raccoon', 'raccoon', 'gorilla', 'tiger', 'tiger', 'tiger']\n",
    "names = ['e1', 'e2', 'r1', 'r2', 'g1', 't1', 't2', 't3']\n",
    "weights = [100, 100, 10, 10, 90, 80, 80, 80]\n",
    "\n",
    "zoo = []\n",
    "\n",
    "for x in list(range(len(to_create))):\n",
    "    add_animal_to_zoo(zoo, to_create[x], names[x], weights[x])\n",
    "\n",
    "zoo\n",
    "\n",
    "print(help(Elephant))\n",
    "\n",
    "# ele1 = Elephant('e1', 100)\n",
    "# ele2 = Elephant('e2', 100)\n",
    "# rac1 = Raccoon('r1', 10)\n",
    "# rac2 = Raccoon('r2', 10)\n",
    "# gor1 = Gorilla('g1', 90)\n",
    "# tig1 = Tiger('t1', 80)\n",
    "# tig2 = Tiger('t2', 80)\n",
    "# tig3 = Tiger('t3', 80)\n",
    "\n",
    "# zoo = [ele1, ele2, rac1, rac2, gor1, tig1, tig2, tig3]"
   ]
  },
  {
   "cell_type": "markdown",
   "metadata": {},
   "source": [
    "Great! Now that you have a populated zoo, you can do what the zookeeper hired you to do--write a program that feeds the correct animals the right food at the right times!\n",
    "\n",
    "To do this, write a function called `feed_animals`.  This function should take in two arguments:\n",
    "\n",
    "* `zoo`, the zoo array containing all the animals\n",
    "* `time`, which can be `'Day'` or `'Night'`.  This should default to day if nothing is entered for `time`.\n",
    "\n",
    "This function should:\n",
    "\n",
    "* Feed only the non-nocturnal animals if `time='Day'`, or only the nocturnal animals if `time='Night'`\n",
    "* Check the food type of each animal before feeding.  If the animal is a carnivore, feed it `meat`; otherwise, feed it `plants`. Feed the animals by using their `.eat()` method."
   ]
  },
  {
   "cell_type": "code",
   "execution_count": 24,
   "metadata": {},
   "outputs": [
    {
     "data": {
      "text/plain": [
       "<__main__.Elephant at 0x7f03f007b240>"
      ]
     },
     "execution_count": 24,
     "metadata": {},
     "output_type": "execute_result"
    }
   ],
   "source": [
    "zoo[0]."
   ]
  },
  {
   "cell_type": "code",
   "execution_count": 19,
   "metadata": {},
   "outputs": [],
   "source": [
    "def feed_animals(zoo, time='Day'):\n",
    "    print_list = []\n",
    "    for animal in zoo:\n",
    "        if time == 'Day' and animal.nocturnal == False:\n",
    "            print_list.append(animal.eat())\n",
    "        if time == 'Night' and animal.nocturnal == True:\n",
    "            print_list.append(animal.eat())\n",
    "    for item in print_list:\n",
    "        print(item)"
   ]
  },
  {
   "cell_type": "markdown",
   "metadata": {},
   "source": [
    "Now, test out your program.  Call the function for a daytime feeding below."
   ]
  },
  {
   "cell_type": "code",
   "execution_count": 20,
   "metadata": {},
   "outputs": [
    {
     "name": "stdout",
     "output_type": "stream",
     "text": [
      "e1 the elephant thinks plant is yummy!\n",
      "e2 the elephant thinks plant is yummy!\n",
      "g1 the gorilla thinks plant is yummy!\n"
     ]
    }
   ],
   "source": [
    "feed_animals(zoo, 'Day')"
   ]
  },
  {
   "cell_type": "markdown",
   "metadata": {},
   "source": [
    "If the elephants and gorrilla's were fed then things should be good!\n",
    "\n",
    "In the cell below, call `feed_animals` again, but this time set `time='Night'`"
   ]
  },
  {
   "cell_type": "code",
   "execution_count": 21,
   "metadata": {},
   "outputs": [
    {
     "name": "stdout",
     "output_type": "stream",
     "text": [
      "r1 the raccoon thinks plant and meat is yummy!\n",
      "r2 the raccoon thinks plant and meat is yummy!\n",
      "t1 the tiger thinks meat is yummy!\n",
      "t2 the tiger thinks meat is yummy!\n",
      "t3 the tiger thinks meat is yummy!\n"
     ]
    }
   ],
   "source": [
    "feed_animals(zoo, 'Night')"
   ]
  },
  {
   "cell_type": "markdown",
   "metadata": {},
   "source": [
    "Thats it! You've used OOP and inheritance to build a working function to help the zookeeper feed his animals the right food at the correct times!\n",
    "\n",
    "## Summary\n",
    "\n",
    "In this lab, you learned how to:\n",
    "\n",
    "* Use inheritance to to write D.R.Y. code\n",
    "* Understand the relationship between subclasses and superclasses\n",
    "* Create Object-Oriented data models that describe the real world with classes and subclasses"
   ]
  }
 ],
 "metadata": {
  "kernelspec": {
   "display_name": "Python 3",
   "language": "python",
   "name": "python3"
  },
  "language_info": {
   "codemirror_mode": {
    "name": "ipython",
    "version": 3
   },
   "file_extension": ".py",
   "mimetype": "text/x-python",
   "name": "python",
   "nbconvert_exporter": "python",
   "pygments_lexer": "ipython3",
   "version": "3.6.6"
  }
 },
 "nbformat": 4,
 "nbformat_minor": 2
}
